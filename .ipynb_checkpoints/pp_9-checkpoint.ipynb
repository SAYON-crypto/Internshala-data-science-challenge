{
 "cells": [
  {
   "cell_type": "markdown",
   "metadata": {},
   "source": [
    "# Premium prediction: "
   ]
  },
  {
   "cell_type": "markdown",
   "metadata": {},
   "source": [
    "## Importing necessary libraries :"
   ]
  },
  {
   "cell_type": "code",
   "execution_count": 2,
   "metadata": {},
   "outputs": [],
   "source": [
    "import pandas as pd \n",
    "import numpy as np\n",
    "import matplotlib.pyplot as plt\n",
    "%matplotlib inline\n",
    "import seaborn as sns"
   ]
  },
  {
   "cell_type": "markdown",
   "metadata": {},
   "source": [
    "## data extraction:"
   ]
  },
  {
   "cell_type": "code",
   "execution_count": 123,
   "metadata": {},
   "outputs": [],
   "source": [
    "train= pd.read_csv('train.csv') #reading the training set\n",
    "test= pd.read_csv('test.csv')  #reading the testing set"
   ]
  },
  {
   "cell_type": "code",
   "execution_count": 68,
   "metadata": {},
   "outputs": [
    {
     "data": {
      "text/plain": [
       "id                                  0\n",
       "perc_premium_paid_by_cash_credit    0\n",
       "age_in_days                         0\n",
       "Income                              0\n",
       "Count_3-6_months_late               0\n",
       "Count_6-12_months_late              0\n",
       "Count_more_than_12_months_late      0\n",
       "application_underwriting_score      0\n",
       "no_of_premiums_paid                 0\n",
       "sourcing_channel                    0\n",
       "residence_area_type                 0\n",
       "target                              0\n",
       "dtype: int64"
      ]
     },
     "execution_count": 68,
     "metadata": {},
     "output_type": "execute_result"
    }
   ],
   "source": [
    "train_22.isnull().sum()"
   ]
  },
  {
   "cell_type": "code",
   "execution_count": 119,
   "metadata": {},
   "outputs": [
    {
     "data": {
      "text/plain": [
       "(79853, 12)"
      ]
     },
     "execution_count": 119,
     "metadata": {},
     "output_type": "execute_result"
    }
   ],
   "source": [
    "train.shape"
   ]
  },
  {
   "cell_type": "markdown",
   "metadata": {},
   "source": [
    "## - train 1"
   ]
  },
  {
   "cell_type": "code",
   "execution_count": 124,
   "metadata": {},
   "outputs": [
    {
     "data": {
      "text/plain": [
       "<matplotlib.axes._subplots.AxesSubplot at 0x26927bfa9c8>"
      ]
     },
     "execution_count": 124,
     "metadata": {},
     "output_type": "execute_result"
    },
    {
     "data": {
      "image/png": "[encoded data removed]",
      "text/plain": [
       "<Figure size 432x288 with 1 Axes>"
      ]
     },
     "metadata": {
      "needs_background": "light"
     },
     "output_type": "display_data"
    }
   ],
   "source": [
    "train_1= train[train['perc_premium_paid_by_cash_credit']==0]\n",
    "\n",
    "train_1.application_underwriting_score.fillna(train_1.application_underwriting_score.mean(), inplace= True)\n",
    "train_1= pd.concat([train_1,pd.get_dummies(train_1[['sourcing_channel','residence_area_type']])],axis= 1)\n",
    "train_1['Income']= np.log(train_1['Income'])\n",
    "train_1['paid_bin']= train_1['no_of_premiums_paid'].apply(lambda x: 1 if x<17 else 0)\n",
    "train_1['late_pre']= train_1['Count_3-6_months_late']+train_1['Count_6-12_months_late']+train_1['Count_more_than_12_months_late']\n",
    "train_1['late_pre']= train_1['late_pre'].apply(lambda x: 1 if x>0 else 0 ) # binning the total late premiums \n",
    "                                                                       # (1 if no. of late premiums>0 else 0 )\n",
    "train_1['safety_ratio']= (train_1['Count_3-6_months_late']+train_1['Count_6-12_months_late']+train_1['Count_more_than_12_months_late'])/train_1['no_of_premiums_paid']\n",
    "train_1= train_1.drop(['sourcing_channel','sourcing_channel_D','sourcing_channel_C','sourcing_channel_B','sourcing_channel_E','residence_area_type'],axis= 1)\n",
    "sns.distplot(train_1['application_underwriting_score'])"
   ]
  },
  {
   "cell_type": "markdown",
   "metadata": {},
   "source": [
    "## - train 21"
   ]
  },
  {
   "cell_type": "code",
   "execution_count": 125,
   "metadata": {},
   "outputs": [],
   "source": [
    "train_2= train[(train['perc_premium_paid_by_cash_credit'] != 0) & (train['perc_premium_paid_by_cash_credit'] != 1)]\n",
    "train_21= train_2[(train_2['application_underwriting_score']>97)]\n",
    "train_21= pd.concat([train_21,pd.get_dummies(train_21[['sourcing_channel','residence_area_type']])],axis= 1)\n",
    "train_21['Income']= np.log(train_21['Income'])\n",
    "train_21['paid_bin']= train_21['no_of_premiums_paid'].apply(lambda x: 1 if x<20 else 0)\n",
    "train_21['late_pre']= train_21['Count_3-6_months_late']+train_21['Count_6-12_months_late']+train_21['Count_more_than_12_months_late']\n",
    "train_21['late_pre']= train_21['late_pre'].apply(lambda x: 1 if x>0 else 0 ) # binning the total late premiums \n",
    "                                                                       # (1 if no. of late premiums>0 else 0 )\n",
    "train_21['safety_ratio']= (train_21['Count_3-6_months_late']+train_21['Count_6-12_months_late']+train_21['Count_more_than_12_months_late'])/train_21['no_of_premiums_paid']\n",
    "train_21= train_21.drop(['sourcing_channel','sourcing_channel_D','sourcing_channel_C','sourcing_channel_B','sourcing_channel_E','residence_area_type'],axis= 1)"
   ]
  },
  {
   "cell_type": "code",
   "execution_count": 90,
   "metadata": {},
   "outputs": [
    {
     "data": {
      "text/plain": [
       "<matplotlib.axes._subplots.AxesSubplot at 0x26924b9a948>"
      ]
     },
     "execution_count": 90,
     "metadata": {},
     "output_type": "execute_result"
    },
    {
     "data": {
      "image/png": "[encoded data removed]",
      "text/plain": [
       "<Figure size 720x576 with 1 Axes>"
      ]
     },
     "metadata": {
      "needs_background": "light"
     },
     "output_type": "display_data"
    }
   ],
   "source": [
    "plt.figure(figsize= (10,8))\n",
    "sns.countplot(np.power(train_21['late_pre'],1))"
   ]
  },
  {
   "cell_type": "markdown",
   "metadata": {},
   "source": [
    "## - train 22"
   ]
  },
  {
   "cell_type": "code",
   "execution_count": 98,
   "metadata": {},
   "outputs": [],
   "source": [
    "train_22= train_2[(train_2['application_underwriting_score']<=97)]\n",
    "train_22= pd.concat([train_22,pd.get_dummies(train_22[['sourcing_channel','residence_area_type']])],axis= 1)\n",
    "train_22['Income']= np.log(train_22['Income'])\n",
    "train_22['paid_bin']= train_22['no_of_premiums_paid'].apply(lambda x: 1 if x<20 else 0)\n",
    "train_22['late_pre']= train_22['Count_3-6_months_late']+train_22['Count_6-12_months_late']+train_22['Count_more_than_12_months_late']\n",
    "train_22['late_pre']= train_22['late_pre'].apply(lambda x: 1 if x>0 else 0 ) # binning the total late premiums \n",
    "                                                                       # (1 if no. of late premiums>0 else 0 )\n",
    "train_22['safety_ratio']= (train_22['Count_3-6_months_late']+train_22['Count_6-12_months_late']+train_22['Count_more_than_12_months_late'])/train_22['no_of_premiums_paid']\n",
    "train_22= train_22.drop(['sourcing_channel','sourcing_channel_D','sourcing_channel_C','sourcing_channel_B','sourcing_channel_E','residence_area_type'],axis= 1)"
   ]
  },
  {
   "cell_type": "markdown",
   "metadata": {},
   "source": [
    "## - train 3 "
   ]
  },
  {
   "cell_type": "code",
   "execution_count": 99,
   "metadata": {},
   "outputs": [
    {
     "name": "stderr",
     "output_type": "stream",
     "text": [
      "C:\\Users\\Acer\\Anaconda3\\lib\\site-packages\\pandas\\core\\frame.py:4153: SettingWithCopyWarning: \n",
      "A value is trying to be set on a copy of a slice from a DataFrame\n",
      "\n",
      "See the caveats in the documentation: https://pandas.pydata.org/pandas-docs/stable/user_guide/indexing.html#returning-a-view-versus-a-copy\n",
      "  downcast=downcast,\n"
     ]
    }
   ],
   "source": [
    "train_3= train[train['perc_premium_paid_by_cash_credit']==1]\n",
    "\n",
    "train_3.application_underwriting_score.fillna(train_3.application_underwriting_score.mean(), inplace= True)\n",
    "train_3.fillna(0,inplace= True)\n",
    "train_3= pd.concat([train_3,pd.get_dummies(train_3[['sourcing_channel','residence_area_type']])],axis= 1)\n",
    "train_3['Income']= np.log(train_3['Income'])\n",
    "train_3['paid_bin']= train_3['no_of_premiums_paid'].apply(lambda x: 1 if x<13 else 0)\n",
    "train_3['late_pre']= train_3['Count_3-6_months_late']+train_3['Count_6-12_months_late']+train_3['Count_more_than_12_months_late']\n",
    "train_3['late_pre']= train_3['late_pre'].apply(lambda x: 1 if x>0 else 0 ) # binning the total late premiums \n",
    "                                                                       # (1 if no. of late premiums>0 else 0 )\n",
    "train_3['safety_ratio']= (train_3['Count_3-6_months_late']+train_3['Count_6-12_months_late']+train_3['Count_more_than_12_months_late'])/train_3['no_of_premiums_paid']\n",
    "train_3= train_3.drop(['sourcing_channel','sourcing_channel_D','sourcing_channel_C','sourcing_channel_B','sourcing_channel_E','residence_area_type'],axis= 1)"
   ]
  },
  {
   "cell_type": "code",
   "execution_count": 100,
   "metadata": {},
   "outputs": [],
   "source": [
    "def ren(df):\n",
    "    \n",
    "    df= df[df.columns[0:9].to_list()+ df.columns[10:].to_list()+ ['target']]\n",
    "    df.drop('id', axis= 1,inplace= True)\n",
    "    \n",
    "    return df"
   ]
  },
  {
   "cell_type": "code",
   "execution_count": 101,
   "metadata": {},
   "outputs": [
    {
     "name": "stderr",
     "output_type": "stream",
     "text": [
      "C:\\Users\\Acer\\Anaconda3\\lib\\site-packages\\pandas\\core\\frame.py:3997: SettingWithCopyWarning: \n",
      "A value is trying to be set on a copy of a slice from a DataFrame\n",
      "\n",
      "See the caveats in the documentation: https://pandas.pydata.org/pandas-docs/stable/user_guide/indexing.html#returning-a-view-versus-a-copy\n",
      "  errors=errors,\n"
     ]
    }
   ],
   "source": [
    "train_1,train_21,train_22,train_3= ren(train_1),ren(train_21),ren(train_22),ren(train_3)\n",
    "#train_2= train_2[train_2.columns[0:9].to_list()+ train_2.columns[10:].to_list()+ ['target']]\n",
    "#train_3= train_3[train_3.columns[0:9].to_list()+ train_3.columns[10:].to_list()+ ['target']]"
   ]
  },
  {
   "cell_type": "code",
   "execution_count": 21,
   "metadata": {},
   "outputs": [],
   "source": [
    "from sklearn.preprocessing import StandardScaler\n",
    "from sklearn.linear_model import LogisticRegression\n",
    "from sklearn.model_selection import train_test_split\n",
    "from sklearn.metrics import roc_auc_score"
   ]
  },
  {
   "cell_type": "code",
   "execution_count": 103,
   "metadata": {},
   "outputs": [],
   "source": [
    "#train_1.drop('id',axis= 1,inplace= True)\n",
    "#train_2.drop('id',axis= 1,inplace= True)\n",
    "#train_3.drop('id',axis= 1,inplace= True)"
   ]
  },
  {
   "cell_type": "code",
   "execution_count": 106,
   "metadata": {},
   "outputs": [
    {
     "data": {
      "text/html": [
       "<div>\n",
       "<style scoped>\n",
       "    .dataframe tbody tr th:only-of-type {\n",
       "        vertical-align: middle;\n",
       "    }\n",
       "\n",
       "    .dataframe tbody tr th {\n",
       "        vertical-align: top;\n",
       "    }\n",
       "\n",
       "    .dataframe thead th {\n",
       "        text-align: right;\n",
       "    }\n",
       "</style>\n",
       "<table border=\"1\" class=\"dataframe\">\n",
       "  <thead>\n",
       "    <tr style=\"text-align: right;\">\n",
       "      <th></th>\n",
       "      <th>perc_premium_paid_by_cash_credit</th>\n",
       "      <th>age_in_days</th>\n",
       "      <th>Income</th>\n",
       "      <th>Count_3-6_months_late</th>\n",
       "      <th>Count_6-12_months_late</th>\n",
       "      <th>Count_more_than_12_months_late</th>\n",
       "      <th>application_underwriting_score</th>\n",
       "      <th>no_of_premiums_paid</th>\n",
       "      <th>sourcing_channel_A</th>\n",
       "      <th>residence_area_type_Rural</th>\n",
       "      <th>residence_area_type_Urban</th>\n",
       "      <th>paid_bin</th>\n",
       "      <th>late_pre</th>\n",
       "      <th>safety_ratio</th>\n",
       "      <th>target</th>\n",
       "    </tr>\n",
       "  </thead>\n",
       "  <tbody>\n",
       "    <tr>\n",
       "      <th>127</th>\n",
       "      <td>0.250</td>\n",
       "      <td>26650</td>\n",
       "      <td>11.142296</td>\n",
       "      <td>1.0</td>\n",
       "      <td>0.0</td>\n",
       "      <td>0.0</td>\n",
       "      <td>95.47</td>\n",
       "      <td>13</td>\n",
       "      <td>1</td>\n",
       "      <td>1</td>\n",
       "      <td>0</td>\n",
       "      <td>1</td>\n",
       "      <td>1</td>\n",
       "      <td>0.076923</td>\n",
       "      <td>1</td>\n",
       "    </tr>\n",
       "    <tr>\n",
       "      <th>147</th>\n",
       "      <td>0.745</td>\n",
       "      <td>17893</td>\n",
       "      <td>11.802980</td>\n",
       "      <td>0.0</td>\n",
       "      <td>0.0</td>\n",
       "      <td>0.0</td>\n",
       "      <td>96.88</td>\n",
       "      <td>5</td>\n",
       "      <td>1</td>\n",
       "      <td>0</td>\n",
       "      <td>1</td>\n",
       "      <td>1</td>\n",
       "      <td>0</td>\n",
       "      <td>0.000000</td>\n",
       "      <td>1</td>\n",
       "    </tr>\n",
       "    <tr>\n",
       "      <th>185</th>\n",
       "      <td>0.498</td>\n",
       "      <td>18263</td>\n",
       "      <td>11.002933</td>\n",
       "      <td>0.0</td>\n",
       "      <td>0.0</td>\n",
       "      <td>0.0</td>\n",
       "      <td>96.70</td>\n",
       "      <td>8</td>\n",
       "      <td>1</td>\n",
       "      <td>1</td>\n",
       "      <td>0</td>\n",
       "      <td>1</td>\n",
       "      <td>0</td>\n",
       "      <td>0.000000</td>\n",
       "      <td>1</td>\n",
       "    </tr>\n",
       "    <tr>\n",
       "      <th>293</th>\n",
       "      <td>0.981</td>\n",
       "      <td>18992</td>\n",
       "      <td>10.410606</td>\n",
       "      <td>0.0</td>\n",
       "      <td>0.0</td>\n",
       "      <td>0.0</td>\n",
       "      <td>96.76</td>\n",
       "      <td>8</td>\n",
       "      <td>1</td>\n",
       "      <td>0</td>\n",
       "      <td>1</td>\n",
       "      <td>1</td>\n",
       "      <td>0</td>\n",
       "      <td>0.000000</td>\n",
       "      <td>1</td>\n",
       "    </tr>\n",
       "    <tr>\n",
       "      <th>340</th>\n",
       "      <td>0.010</td>\n",
       "      <td>24466</td>\n",
       "      <td>12.181268</td>\n",
       "      <td>0.0</td>\n",
       "      <td>0.0</td>\n",
       "      <td>0.0</td>\n",
       "      <td>92.70</td>\n",
       "      <td>19</td>\n",
       "      <td>0</td>\n",
       "      <td>0</td>\n",
       "      <td>1</td>\n",
       "      <td>1</td>\n",
       "      <td>0</td>\n",
       "      <td>0.000000</td>\n",
       "      <td>1</td>\n",
       "    </tr>\n",
       "    <tr>\n",
       "      <th>...</th>\n",
       "      <td>...</td>\n",
       "      <td>...</td>\n",
       "      <td>...</td>\n",
       "      <td>...</td>\n",
       "      <td>...</td>\n",
       "      <td>...</td>\n",
       "      <td>...</td>\n",
       "      <td>...</td>\n",
       "      <td>...</td>\n",
       "      <td>...</td>\n",
       "      <td>...</td>\n",
       "      <td>...</td>\n",
       "      <td>...</td>\n",
       "      <td>...</td>\n",
       "      <td>...</td>\n",
       "    </tr>\n",
       "    <tr>\n",
       "      <th>79489</th>\n",
       "      <td>0.010</td>\n",
       "      <td>24104</td>\n",
       "      <td>10.492662</td>\n",
       "      <td>0.0</td>\n",
       "      <td>0.0</td>\n",
       "      <td>0.0</td>\n",
       "      <td>94.40</td>\n",
       "      <td>16</td>\n",
       "      <td>1</td>\n",
       "      <td>0</td>\n",
       "      <td>1</td>\n",
       "      <td>1</td>\n",
       "      <td>0</td>\n",
       "      <td>0.000000</td>\n",
       "      <td>1</td>\n",
       "    </tr>\n",
       "    <tr>\n",
       "      <th>79492</th>\n",
       "      <td>0.142</td>\n",
       "      <td>23368</td>\n",
       "      <td>11.408897</td>\n",
       "      <td>0.0</td>\n",
       "      <td>0.0</td>\n",
       "      <td>0.0</td>\n",
       "      <td>95.08</td>\n",
       "      <td>15</td>\n",
       "      <td>1</td>\n",
       "      <td>0</td>\n",
       "      <td>1</td>\n",
       "      <td>1</td>\n",
       "      <td>0</td>\n",
       "      <td>0.000000</td>\n",
       "      <td>1</td>\n",
       "    </tr>\n",
       "    <tr>\n",
       "      <th>79548</th>\n",
       "      <td>0.049</td>\n",
       "      <td>24833</td>\n",
       "      <td>11.226709</td>\n",
       "      <td>1.0</td>\n",
       "      <td>0.0</td>\n",
       "      <td>0.0</td>\n",
       "      <td>96.78</td>\n",
       "      <td>10</td>\n",
       "      <td>1</td>\n",
       "      <td>0</td>\n",
       "      <td>1</td>\n",
       "      <td>1</td>\n",
       "      <td>1</td>\n",
       "      <td>0.100000</td>\n",
       "      <td>0</td>\n",
       "    </tr>\n",
       "    <tr>\n",
       "      <th>79760</th>\n",
       "      <td>0.803</td>\n",
       "      <td>16800</td>\n",
       "      <td>10.733130</td>\n",
       "      <td>1.0</td>\n",
       "      <td>2.0</td>\n",
       "      <td>1.0</td>\n",
       "      <td>96.16</td>\n",
       "      <td>8</td>\n",
       "      <td>0</td>\n",
       "      <td>0</td>\n",
       "      <td>1</td>\n",
       "      <td>1</td>\n",
       "      <td>1</td>\n",
       "      <td>0.500000</td>\n",
       "      <td>0</td>\n",
       "    </tr>\n",
       "    <tr>\n",
       "      <th>79830</th>\n",
       "      <td>0.999</td>\n",
       "      <td>15707</td>\n",
       "      <td>10.678445</td>\n",
       "      <td>0.0</td>\n",
       "      <td>0.0</td>\n",
       "      <td>0.0</td>\n",
       "      <td>93.57</td>\n",
       "      <td>8</td>\n",
       "      <td>0</td>\n",
       "      <td>0</td>\n",
       "      <td>1</td>\n",
       "      <td>1</td>\n",
       "      <td>0</td>\n",
       "      <td>0.000000</td>\n",
       "      <td>1</td>\n",
       "    </tr>\n",
       "  </tbody>\n",
       "</table>\n",
       "<p>1415 rows × 15 columns</p>\n",
       "</div>"
      ],
      "text/plain": [
       "       perc_premium_paid_by_cash_credit  age_in_days     Income  \\\n",
       "127                               0.250        26650  11.142296   \n",
       "147                               0.745        17893  11.802980   \n",
       "185                               0.498        18263  11.002933   \n",
       "293                               0.981        18992  10.410606   \n",
       "340                               0.010        24466  12.181268   \n",
       "...                                 ...          ...        ...   \n",
       "79489                             0.010        24104  10.492662   \n",
       "79492                             0.142        23368  11.408897   \n",
       "79548                             0.049        24833  11.226709   \n",
       "79760                             0.803        16800  10.733130   \n",
       "79830                             0.999        15707  10.678445   \n",
       "\n",
       "       Count_3-6_months_late  Count_6-12_months_late  \\\n",
       "127                      1.0                     0.0   \n",
       "147                      0.0                     0.0   \n",
       "185                      0.0                     0.0   \n",
       "293                      0.0                     0.0   \n",
       "340                      0.0                     0.0   \n",
       "...                      ...                     ...   \n",
       "79489                    0.0                     0.0   \n",
       "79492                    0.0                     0.0   \n",
       "79548                    1.0                     0.0   \n",
       "79760                    1.0                     2.0   \n",
       "79830                    0.0                     0.0   \n",
       "\n",
       "       Count_more_than_12_months_late  application_underwriting_score  \\\n",
       "127                               0.0                           95.47   \n",
       "147                               0.0                           96.88   \n",
       "185                               0.0                           96.70   \n",
       "293                               0.0                           96.76   \n",
       "340                               0.0                           92.70   \n",
       "...                               ...                             ...   \n",
       "79489                             0.0                           94.40   \n",
       "79492                             0.0                           95.08   \n",
       "79548                             0.0                           96.78   \n",
       "79760                             1.0                           96.16   \n",
       "79830                             0.0                           93.57   \n",
       "\n",
       "       no_of_premiums_paid  sourcing_channel_A  residence_area_type_Rural  \\\n",
       "127                     13                   1                          1   \n",
       "147                      5                   1                          0   \n",
       "185                      8                   1                          1   \n",
       "293                      8                   1                          0   \n",
       "340                     19                   0                          0   \n",
       "...                    ...                 ...                        ...   \n",
       "79489                   16                   1                          0   \n",
       "79492                   15                   1                          0   \n",
       "79548                   10                   1                          0   \n",
       "79760                    8                   0                          0   \n",
       "79830                    8                   0                          0   \n",
       "\n",
       "       residence_area_type_Urban  paid_bin  late_pre  safety_ratio  target  \n",
       "127                            0         1         1      0.076923       1  \n",
       "147                            1         1         0      0.000000       1  \n",
       "185                            0         1         0      0.000000       1  \n",
       "293                            1         1         0      0.000000       1  \n",
       "340                            1         1         0      0.000000       1  \n",
       "...                          ...       ...       ...           ...     ...  \n",
       "79489                          1         1         0      0.000000       1  \n",
       "79492                          1         1         0      0.000000       1  \n",
       "79548                          1         1         1      0.100000       0  \n",
       "79760                          1         1         1      0.500000       0  \n",
       "79830                          1         1         0      0.000000       1  \n",
       "\n",
       "[1415 rows x 15 columns]"
      ]
     },
     "execution_count": 106,
     "metadata": {},
     "output_type": "execute_result"
    }
   ],
   "source": [
    "train_22"
   ]
  },
  {
   "cell_type": "code",
   "execution_count": 109,
   "metadata": {},
   "outputs": [],
   "source": [
    "x1= StandardScaler().fit_transform(train_1.iloc[:,:14])\n",
    "y1= train_1.iloc[:,-1]\n",
    "x21= StandardScaler().fit_transform(train_21.iloc[:,:14])\n",
    "y21= train_21.iloc[:,-1]\n",
    "x22= StandardScaler().fit_transform(train_22.iloc[:,:14])\n",
    "y22= train_22.iloc[:,-1]\n",
    "x3= StandardScaler().fit_transform(train_3.iloc[:,:14])\n",
    "y3= train_3.iloc[:,-1]"
   ]
  },
  {
   "cell_type": "code",
   "execution_count": 110,
   "metadata": {},
   "outputs": [],
   "source": [
    "log1= LogisticRegression(C= 0.1, solver= 'sag').fit(x1,y1)\n",
    "log21= LogisticRegression(C= 0.1, solver= 'sag').fit(x21,y21)\n",
    "log22= LogisticRegression(C= 0.1, solver= 'sag').fit(x22,y22)\n",
    "log3= LogisticRegression(C= 0.1, solver= 'sag').fit(x3,y3)"
   ]
  },
  {
   "cell_type": "code",
   "execution_count": 114,
   "metadata": {},
   "outputs": [],
   "source": [
    "def test_prep2(train):\n",
    "    \n",
    "    train_1= train[train['perc_premium_paid_by_cash_credit']==0]\n",
    "    train_1.application_underwriting_score.fillna(train_1.application_underwriting_score.mean(), inplace= True)\n",
    "    train_1= pd.concat([train_1,pd.get_dummies(train_1[['sourcing_channel','residence_area_type']])],axis= 1)\n",
    "    train_1['Income']= np.log(train_1['Income'])\n",
    "    train_1['paid_bin']= train_1['no_of_premiums_paid'].apply(lambda x: 1 if x<17 else 0)\n",
    "    train_1['late_pre']= train_1['Count_3-6_months_late']+train_1['Count_6-12_months_late']+train_1['Count_more_than_12_months_late']\n",
    "    train_1['late_pre']= train_1['late_pre'].apply(lambda x: 1 if x>0 else 0 ) # binning the total late premiums \n",
    "                                                                               # (1 if no. of late premiums>0 else 0 )\n",
    "    train_1['safety_ratio']= (train_1['Count_3-6_months_late']+train_1['Count_6-12_months_late']+train_1['Count_more_than_12_months_late'])/train_1['no_of_premiums_paid']\n",
    "    train_1= train_1.drop(['sourcing_channel','sourcing_channel_D','sourcing_channel_C','sourcing_channel_B','sourcing_channel_E','residence_area_type'],axis= 1)\n",
    "\n",
    "    \n",
    "    train_2= train[(train['perc_premium_paid_by_cash_credit'] != 0) & (train['perc_premium_paid_by_cash_credit'] != 1)]\n",
    "    train_21= train_2[(train_2['application_underwriting_score']>97)]\n",
    "    train_21= pd.concat([train_21,pd.get_dummies(train_21[['sourcing_channel','residence_area_type']])],axis= 1)\n",
    "    train_21['Income']= np.log(train_21['Income'])\n",
    "    train_21['paid_bin']= train_21['no_of_premiums_paid'].apply(lambda x: 1 if x<22 else 0)\n",
    "    train_21['late_pre']= train_21['Count_3-6_months_late']+train_21['Count_6-12_months_late']+train_21['Count_more_than_12_months_late']\n",
    "    train_21['late_pre']= train_21['late_pre'].apply(lambda x: 1 if x>0 else 0 ) # binning the total late premiums \n",
    "                                                                       # (1 if no. of late premiums>0 else 0 )\n",
    "    train_21['safety_ratio']= (train_21['Count_3-6_months_late']+train_21['Count_6-12_months_late']+train_21['Count_more_than_12_months_late'])/train_21['no_of_premiums_paid']\n",
    "    train_21= train_21.drop(['sourcing_channel','sourcing_channel_D','sourcing_channel_C','sourcing_channel_B','sourcing_channel_E','residence_area_type'],axis= 1)\n",
    "    \n",
    "    train_22= train_2[(train_2['application_underwriting_score']<=97)]\n",
    "    train_22= pd.concat([train_22,pd.get_dummies(train_22[['sourcing_channel','residence_area_type']])],axis= 1)\n",
    "    train_22['Income']= np.log(train_22['Income'])\n",
    "    train_22['paid_bin']= train_22['no_of_premiums_paid'].apply(lambda x: 1 if x<20 else 0)\n",
    "    train_22['late_pre']= train_22['Count_3-6_months_late']+train_22['Count_6-12_months_late']+train_22['Count_more_than_12_months_late']\n",
    "    train_22['late_pre']= train_22['late_pre'].apply(lambda x: 1 if x>0 else 0 ) # binning the total late premiums \n",
    "                                                                       # (1 if no. of late premiums>0 else 0 )\n",
    "    train_22['safety_ratio']= (train_22['Count_3-6_months_late']+train_22['Count_6-12_months_late']+train_22['Count_more_than_12_months_late'])/train_22['no_of_premiums_paid']\n",
    "    train_22= train_22.drop(['sourcing_channel','sourcing_channel_D','sourcing_channel_C','sourcing_channel_B','sourcing_channel_E','residence_area_type'],axis= 1)\n",
    "    \n",
    "    \n",
    "    train_3= train[train['perc_premium_paid_by_cash_credit']==1]\n",
    "    train_3.application_underwriting_score.fillna(train_3.application_underwriting_score.mean(), inplace= True)\n",
    "    train_3.fillna(0,inplace= True)\n",
    "    train_3= pd.concat([train_3,pd.get_dummies(train_3[['sourcing_channel','residence_area_type']])],axis= 1)\n",
    "    train_3['Income']= np.log(train_3['Income'])\n",
    "    train_3['paid_bin']= train_3['no_of_premiums_paid'].apply(lambda x: 1 if x<10 else 0)\n",
    "    train_3['late_pre']= train_3['Count_3-6_months_late']+train_3['Count_6-12_months_late']+train_3['Count_more_than_12_months_late']\n",
    "    train_3['late_pre']= train_3['late_pre'].apply(lambda x: 1 if x>0 else 0 ) # binning the total late premiums \n",
    "                                                                       # (1 if no. of late premiums>0 else 0 )\n",
    "    train_3['safety_ratio']= (train_3['Count_3-6_months_late']+train_3['Count_6-12_months_late']+train_3['Count_more_than_12_months_late'])/train_3['no_of_premiums_paid']\n",
    "    train_3= train_3.drop(['sourcing_channel','sourcing_channel_D','sourcing_channel_C','sourcing_channel_B','sourcing_channel_E','residence_area_type'],axis= 1)\n",
    "    \n",
    "    x_test1= StandardScaler().fit_transform(train_1.iloc[:,1:])\n",
    "    x_test21= StandardScaler().fit_transform(train_21.iloc[:,1:])\n",
    "    x_test22= StandardScaler().fit_transform(train_22.iloc[:,1:])\n",
    "    x_test3= StandardScaler().fit_transform(train_3.iloc[:,1:])\n",
    "    \n",
    "    return (x_test1,x_test21,x_test22,x_test3,train_1,train_21,train_22,train_3)"
   ]
  },
  {
   "cell_type": "code",
   "execution_count": 115,
   "metadata": {},
   "outputs": [
    {
     "name": "stderr",
     "output_type": "stream",
     "text": [
      "C:\\Users\\Acer\\Anaconda3\\lib\\site-packages\\pandas\\core\\frame.py:4153: SettingWithCopyWarning: \n",
      "A value is trying to be set on a copy of a slice from a DataFrame\n",
      "\n",
      "See the caveats in the documentation: https://pandas.pydata.org/pandas-docs/stable/user_guide/indexing.html#returning-a-view-versus-a-copy\n",
      "  downcast=downcast,\n"
     ]
    }
   ],
   "source": [
    "x_test1,x_test21,x_test22,x_test3,t1,t21,t22,t3 = test_prep2(test)"
   ]
  },
  {
   "cell_type": "code",
   "execution_count": 116,
   "metadata": {},
   "outputs": [],
   "source": [
    "pred1= log1.predict_proba(x_test1)\n",
    "pred21= log21.predict_proba(x_test21)\n",
    "pred22= log22.predict_proba(x_test22)\n",
    "pred3= log3.predict_proba(x_test3)"
   ]
  },
  {
   "cell_type": "code",
   "execution_count": 117,
   "metadata": {},
   "outputs": [],
   "source": [
    "sub1= pd.DataFrame()\n",
    "sub21= pd.DataFrame()\n",
    "sub22= pd.DataFrame()\n",
    "sub3= pd.DataFrame()\n",
    "sub1['id']= t1['id']\n",
    "sub21['id']= t21['id']\n",
    "sub22['id']= t22['id']\n",
    "sub3['id']= t3['id']\n",
    "sub1['target']= pred1[:,1]\n",
    "sub21['target']= pred21[:,1]\n",
    "sub22['target']= pred22[:,1]\n",
    "sub3['target']= pred3[:,1]\n",
    "\n",
    "sub= pd.concat([sub1,sub21,sub22,sub3],axis= 0)\n",
    "sub.set_index('id',inplace= True)\n",
    "sub= sub.sort_index()\n",
    "sub.to_csv('sample_submission27.csv')"
   ]
  },
  {
   "cell_type": "code",
   "execution_count": null,
   "metadata": {},
   "outputs": [],
   "source": []
  }
 ],
 "metadata": {
  "kernelspec": {
   "display_name": "Python 3",
   "language": "python",
   "name": "python3"
  },
  "language_info": {
   "codemirror_mode": {
    "name": "ipython",
    "version": 3
   },
   "file_extension": ".py",
   "mimetype": "text/x-python",
   "name": "python",
   "nbconvert_exporter": "python",
   "pygments_lexer": "ipython3",
   "version": "3.7.4"
  }
 },
 "nbformat": 4,
 "nbformat_minor": 2
}
